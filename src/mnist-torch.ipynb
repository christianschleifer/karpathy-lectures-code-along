{
 "cells": [
  {
   "cell_type": "markdown",
   "id": "c46b5da6-f8ec-4312-81a8-8441cf1b5183",
   "metadata": {},
   "source": [
    "## Define constants"
   ]
  },
  {
   "cell_type": "code",
   "execution_count": 178,
   "id": "e75cc912-3171-4a34-96a2-a09f7aaf707e",
   "metadata": {},
   "outputs": [],
   "source": [
    "TRAIN_DATA_FILE_NAME = \"train-images-idx3-ubyte\"\n",
    "TRAIN_LABELS_FILE_NAME = \"train-labels-idx1-ubyte\"\n",
    "TEST_DATA_FILE_NAME = \"t10k-images-idx3-ubyte\"\n",
    "TEST_LABELS_FILE_NAME = \"t10k-labels-idx1-ubyte\"\n",
    "\n",
    "FILES = {\n",
    "    \"train_data\": TRAIN_DATA_FILE_NAME,\n",
    "    \"train_labels\": TRAIN_LABELS_FILE_NAME,\n",
    "    \"test_data\": TEST_DATA_FILE_NAME,\n",
    "    \"test_labels\": TEST_LABELS_FILE_NAME\n",
    "}\n",
    "\n",
    "MNIST_IMAGE_SIZE = 28\n",
    "BATCH_SIZE = 24\n",
    "INITIAL_LEARNING_RATE = 0.0001\n",
    "LEARNING_ITERATIONS = 10_000"
   ]
  },
  {
   "cell_type": "markdown",
   "id": "06f89ea2-bc74-4b87-9974-1b6703bfff36",
   "metadata": {},
   "source": [
    "## Download files"
   ]
  },
  {
   "cell_type": "code",
   "execution_count": 2,
   "id": "39c9e77c-86de-411f-b8d3-e38540ed4166",
   "metadata": {
    "editable": true,
    "slideshow": {
     "slide_type": ""
    },
    "tags": []
   },
   "outputs": [
    {
     "name": "stdout",
     "output_type": "stream",
     "text": [
      "--2025-08-17 11:16:04--  https://storage.googleapis.com/cvdf-datasets/mnist/train-images-idx3-ubyte.gz\n",
      "Resolving storage.googleapis.com (storage.googleapis.com)... 142.251.36.187, 142.251.36.219, 142.251.36.251, ...\n",
      "Connecting to storage.googleapis.com (storage.googleapis.com)|142.251.36.187|:443... connected.\n",
      "HTTP request sent, awaiting response... 200 OK\n",
      "Length: 9912422 (9.5M) [application/x-gzip]\n",
      "Saving to: ‘../resources/train-images-idx3-ubyte.gz’\n",
      "\n",
      "../resources/train- 100%[===================>]   9.45M  12.0MB/s    in 0.8s    \n",
      "\n",
      "2025-08-17 11:16:05 (12.0 MB/s) - ‘../resources/train-images-idx3-ubyte.gz’ saved [9912422/9912422]\n",
      "\n",
      "--2025-08-17 11:16:05--  https://storage.googleapis.com/cvdf-datasets/mnist/train-labels-idx1-ubyte.gz\n",
      "Resolving storage.googleapis.com (storage.googleapis.com)... 142.251.36.187, 142.251.36.219, 142.251.36.251, ...\n",
      "Connecting to storage.googleapis.com (storage.googleapis.com)|142.251.36.187|:443... connected.\n",
      "HTTP request sent, awaiting response... 200 OK\n",
      "Length: 28881 (28K) [application/x-gzip]\n",
      "Saving to: ‘../resources/train-labels-idx1-ubyte.gz’\n",
      "\n",
      "../resources/train- 100%[===================>]  28.20K  --.-KB/s    in 0.008s  \n",
      "\n",
      "2025-08-17 11:16:06 (3.51 MB/s) - ‘../resources/train-labels-idx1-ubyte.gz’ saved [28881/28881]\n",
      "\n",
      "--2025-08-17 11:16:06--  https://storage.googleapis.com/cvdf-datasets/mnist/t10k-images-idx3-ubyte.gz\n",
      "Resolving storage.googleapis.com (storage.googleapis.com)... 142.251.36.187, 142.251.36.219, 142.251.36.251, ...\n",
      "Connecting to storage.googleapis.com (storage.googleapis.com)|142.251.36.187|:443... connected.\n",
      "HTTP request sent, awaiting response... 200 OK\n",
      "Length: 1648877 (1.6M) [application/x-gzip]\n",
      "Saving to: ‘../resources/t10k-images-idx3-ubyte.gz’\n",
      "\n",
      "../resources/t10k-i 100%[===================>]   1.57M  --.-KB/s    in 0.1s    \n",
      "\n",
      "2025-08-17 11:16:07 (11.1 MB/s) - ‘../resources/t10k-images-idx3-ubyte.gz’ saved [1648877/1648877]\n",
      "\n",
      "--2025-08-17 11:16:07--  https://storage.googleapis.com/cvdf-datasets/mnist/t10k-labels-idx1-ubyte.gz\n",
      "Resolving storage.googleapis.com (storage.googleapis.com)... 142.251.36.187, 142.251.36.219, 142.251.36.251, ...\n",
      "Connecting to storage.googleapis.com (storage.googleapis.com)|142.251.36.187|:443... connected.\n",
      "HTTP request sent, awaiting response... 200 OK\n",
      "Length: 4542 (4.4K) [application/x-gzip]\n",
      "Saving to: ‘../resources/t10k-labels-idx1-ubyte.gz’\n",
      "\n",
      "../resources/t10k-l 100%[===================>]   4.44K  --.-KB/s    in 0s      \n",
      "\n",
      "2025-08-17 11:16:07 (15.7 MB/s) - ‘../resources/t10k-labels-idx1-ubyte.gz’ saved [4542/4542]\n",
      "\n"
     ]
    }
   ],
   "source": [
    "for file_name in FILES.values():\n",
    "    download_command = f\"wget -O ../resources/{file_name}.gz https://storage.googleapis.com/cvdf-datasets/mnist/{file_name}.gz\"\n",
    "    !{download_command}\n",
    "    unzip_command = f\"gunzip ../resources/{file_name}.gz\"\n",
    "    !{unzip_command}"
   ]
  },
  {
   "cell_type": "markdown",
   "id": "e49e4f10-52c3-4229-a852-0d15384efad5",
   "metadata": {},
   "source": [
    "## Read data into tensors"
   ]
  },
  {
   "cell_type": "code",
   "execution_count": 38,
   "id": "f1611148-91af-49f0-8a77-3c9d7bd37d48",
   "metadata": {},
   "outputs": [],
   "source": [
    "import torch\n",
    "import matplotlib.pyplot as plt"
   ]
  },
  {
   "cell_type": "code",
   "execution_count": 39,
   "id": "00e5013a-91af-4288-8578-bd930d75da94",
   "metadata": {},
   "outputs": [],
   "source": [
    "def read_data(file_name: str) -> torch.Tensor:\n",
    "    with open(f\"../resources/{file_name}\", \"rb\") as f:\n",
    "        data: list[torch.Tensor] = []\n",
    "        f.read(16)\n",
    "        while True:\n",
    "            chunk = f.read(784)\n",
    "            if not chunk:\n",
    "                break            \n",
    "            if len(chunk) == 784:\n",
    "                tensor = torch.tensor(list(chunk), dtype=torch.uint8)\n",
    "                data.append(tensor)\n",
    "            else:\n",
    "                print(\"End of file reached with an incomplete chunk.\")\n",
    "                break\n",
    "                \n",
    "        return torch.stack(data) / 255"
   ]
  },
  {
   "cell_type": "code",
   "execution_count": 40,
   "id": "dd48e448-7e9d-41e2-893b-745cd0f75776",
   "metadata": {},
   "outputs": [],
   "source": [
    "def read_labels(file_name: str) -> torch.Tensor:\n",
    "    with open(f\"../resources/{file_name}\", \"rb\") as f:\n",
    "        labels: list[torch.Tensor] = []\n",
    "        f.read(8)\n",
    "        while True:\n",
    "            chunk = f.read(1)\n",
    "            if not chunk:\n",
    "                break            \n",
    "            if len(chunk) == 1:\n",
    "                tensor = torch.tensor(list(chunk), dtype=torch.uint8)\n",
    "                labels.append(tensor)\n",
    "            else:\n",
    "                print(\"End of file reached with an incomplete chunk.\")\n",
    "                break\n",
    "                \n",
    "        return torch.stack(labels).long().flatten()"
   ]
  },
  {
   "cell_type": "code",
   "execution_count": 179,
   "id": "2b2f7715-67d5-44c5-b8c1-a54e46cb49eb",
   "metadata": {},
   "outputs": [],
   "source": [
    "train_data = read_data(FILES[\"train_data\"])\n",
    "train_labels = read_labels(FILES[\"train_labels\"])\n",
    "\n",
    "test_data = read_data(FILES[\"test_data\"])\n",
    "test_labels = read_labels(FILES[\"test_labels\"])"
   ]
  },
  {
   "cell_type": "code",
   "execution_count": 180,
   "id": "fe9bd089-c6a2-4bbf-b8f4-0b028236bfc2",
   "metadata": {},
   "outputs": [
    {
     "name": "stdout",
     "output_type": "stream",
     "text": [
      "train data: torch.Size([60000, 784])\n",
      "train labels: torch.Size([60000])\n",
      "\n",
      "test data: torch.Size([10000, 784])\n",
      "test labels: torch.Size([10000])\n"
     ]
    }
   ],
   "source": [
    "print(f\"train data: {train_data.shape}\")\n",
    "print(f\"train labels: {train_labels.shape}\")\n",
    "print()\n",
    "print(f\"test data: {test_data.shape}\")\n",
    "print(f\"test labels: {test_labels.shape}\")"
   ]
  },
  {
   "cell_type": "code",
   "execution_count": 181,
   "id": "aef04259-e11f-4a38-83e2-06d5a43dec57",
   "metadata": {},
   "outputs": [
    {
     "name": "stdout",
     "output_type": "stream",
     "text": [
      "Label: 5\n"
     ]
    },
    {
     "data": {
      "text/plain": [
       "<matplotlib.image.AxesImage at 0x136893250>"
      ]
     },
     "execution_count": 181,
     "metadata": {},
     "output_type": "execute_result"
    },
    {
     "data": {
      "image/png": "[encoded data removed]",
      "text/plain": [
       "<Figure size 640x480 with 1 Axes>"
      ]
     },
     "metadata": {},
     "output_type": "display_data"
    }
   ],
   "source": [
    "# small validity check whether data is loaded correctly\n",
    "print(f\"Label: {train_labels[0].item()}\")\n",
    "plt.imshow(train_data[0].view(28,28).numpy(), cmap=\"gray\")"
   ]
  },
  {
   "cell_type": "code",
   "execution_count": 182,
   "id": "352e12e0-8949-48ae-91dd-64328072f55e",
   "metadata": {},
   "outputs": [],
   "source": [
    "import random\n",
    "\n",
    "def get_batch(data: torch.Tensor, labels: torch.Tensor) -> tuple[torch.Tensor, torch.Tensor]:\n",
    "    num_samples, _ = data.shape\n",
    "    indices = torch.Tensor([random.randint(0, num_samples -1) for _ in range(BATCH_SIZE)]).int()\n",
    "\n",
    "    xs = data[indices]\n",
    "    ys = labels[indices]\n",
    "\n",
    "    return xs, ys\n"
   ]
  },
  {
   "cell_type": "code",
   "execution_count": 183,
   "id": "b836e983-a204-4ca1-ad5d-091d2cfdb71a",
   "metadata": {},
   "outputs": [
    {
     "data": {
      "text/plain": [
       "tensor([0., 1., 2., 3., 4., 5., 6., 7., 8., 9.])"
      ]
     },
     "execution_count": 183,
     "metadata": {},
     "output_type": "execute_result"
    }
   ],
   "source": [
    "torch.unique(train_labels).float()"
   ]
  },
  {
   "cell_type": "markdown",
   "id": "19480339-941a-4982-86c8-83c418c0b5cd",
   "metadata": {},
   "source": [
    "## Thoughts on model\n",
    "\n",
    "We have 28*28 channels that in the end need to output the logits for 10 distinct numbers. \n",
    "\n",
    "So the model must convert an input of 784 numbers to and output of 10 numbers."
   ]
  },
  {
   "cell_type": "code",
   "execution_count": 184,
   "id": "f3516a11-2c37-421c-8a61-95ae9bed05ea",
   "metadata": {},
   "outputs": [],
   "source": [
    "import torch.nn as nn\n",
    "import torch.nn.functional as F"
   ]
  },
  {
   "cell_type": "code",
   "execution_count": 185,
   "id": "3393ca28-1228-4c7e-bb77-5d3fb33946a9",
   "metadata": {},
   "outputs": [],
   "source": [
    "class MLP(nn.Module):\n",
    "    def __init__(self):\n",
    "        super().__init__()\n",
    "        self.model = nn.Sequential(\n",
    "            nn.Linear(784, 784),\n",
    "            nn.ReLU(),\n",
    "            nn.Linear(784, 254),\n",
    "            nn.ReLU(),\n",
    "            nn.Linear(254, 10),\n",
    "        )\n",
    "\n",
    "    def forward(self, x):\n",
    "        return self.model(x)\n",
    "\n",
    "    def predict(self, x):\n",
    "        logits = self.model(x)\n",
    "        return F.softmax(logits, dim=1)"
   ]
  },
  {
   "cell_type": "code",
   "execution_count": 186,
   "id": "f81d373c-3dc2-4bc9-9708-54100c75e57a",
   "metadata": {},
   "outputs": [],
   "source": [
    "model = MLP()"
   ]
  },
  {
   "cell_type": "code",
   "execution_count": 187,
   "id": "890c943c-27cb-45f1-9225-9debe6b0a363",
   "metadata": {},
   "outputs": [],
   "source": [
    "loss_function = nn.CrossEntropyLoss()"
   ]
  },
  {
   "cell_type": "code",
   "execution_count": 188,
   "id": "4eadbc9c-7fd3-4139-ad0f-5e21448897ec",
   "metadata": {},
   "outputs": [],
   "source": [
    "optimizer = torch.optim.AdamW(model.parameters(), lr=1e-3)"
   ]
  },
  {
   "cell_type": "code",
   "execution_count": 176,
   "id": "6aebdb28-bf96-4b91-a940-3d97279507b6",
   "metadata": {},
   "outputs": [],
   "source": [
    "@torch.no_grad()\n",
    "def evaluate():\n",
    "    predictions = model.predict(test_data)\n",
    "    predictions = torch.argmax(predictions, dim=1)\n",
    "    matches = predictions == test_labels\n",
    "    print(f\"{matches.sum().item() * 100 / len(matches)}% correct predictions\") "
   ]
  },
  {
   "cell_type": "code",
   "execution_count": 189,
   "id": "3f71a483-cd7d-4cb6-a461-e423ea1f0219",
   "metadata": {},
   "outputs": [
    {
     "name": "stdout",
     "output_type": "stream",
     "text": [
      "7.3% correct predictions\n",
      "88.31% correct predictions\n",
      "90.59% correct predictions\n",
      "91.52% correct predictions\n",
      "93.11% correct predictions\n",
      "93.84% correct predictions\n",
      "92.23% correct predictions\n",
      "93.99% correct predictions\n",
      "95.19% correct predictions\n",
      "95.26% correct predictions\n",
      "94.97% correct predictions\n",
      "93.84% correct predictions\n",
      "95.64% correct predictions\n",
      "95.81% correct predictions\n",
      "95.7% correct predictions\n",
      "95.79% correct predictions\n",
      "95.87% correct predictions\n",
      "96.57% correct predictions\n",
      "96.09% correct predictions\n",
      "95.37% correct predictions\n",
      "96.75% correct predictions\n",
      "96.04% correct predictions\n",
      "96.5% correct predictions\n",
      "96.0% correct predictions\n",
      "96.47% correct predictions\n",
      "95.94% correct predictions\n",
      "96.77% correct predictions\n",
      "96.66% correct predictions\n",
      "96.34% correct predictions\n",
      "96.1% correct predictions\n",
      "97.02% correct predictions\n",
      "96.65% correct predictions\n",
      "96.75% correct predictions\n",
      "96.69% correct predictions\n",
      "96.88% correct predictions\n",
      "97.34% correct predictions\n",
      "96.48% correct predictions\n",
      "97.44% correct predictions\n",
      "96.68% correct predictions\n",
      "96.12% correct predictions\n",
      "97.03% correct predictions\n",
      "97.36% correct predictions\n",
      "97.08% correct predictions\n",
      "97.18% correct predictions\n",
      "97.29% correct predictions\n",
      "96.49% correct predictions\n",
      "96.9% correct predictions\n",
      "97.17% correct predictions\n",
      "97.16% correct predictions\n",
      "97.57% correct predictions\n",
      "97.02% correct predictions\n",
      "96.89% correct predictions\n",
      "96.98% correct predictions\n",
      "97.17% correct predictions\n",
      "96.49% correct predictions\n",
      "97.36% correct predictions\n",
      "97.78% correct predictions\n",
      "97.4% correct predictions\n",
      "97.85% correct predictions\n",
      "97.36% correct predictions\n",
      "97.62% correct predictions\n",
      "97.38% correct predictions\n",
      "97.28% correct predictions\n",
      "97.72% correct predictions\n",
      "97.43% correct predictions\n",
      "97.68% correct predictions\n",
      "97.29% correct predictions\n",
      "97.26% correct predictions\n",
      "97.85% correct predictions\n",
      "97.79% correct predictions\n",
      "97.74% correct predictions\n",
      "97.59% correct predictions\n",
      "97.55% correct predictions\n",
      "97.42% correct predictions\n",
      "97.32% correct predictions\n",
      "97.53% correct predictions\n",
      "97.85% correct predictions\n",
      "97.71% correct predictions\n",
      "97.58% correct predictions\n",
      "97.59% correct predictions\n",
      "97.55% correct predictions\n",
      "97.65% correct predictions\n",
      "97.62% correct predictions\n",
      "97.7% correct predictions\n",
      "97.69% correct predictions\n",
      "97.29% correct predictions\n",
      "97.78% correct predictions\n",
      "97.37% correct predictions\n",
      "97.49% correct predictions\n",
      "97.7% correct predictions\n",
      "97.76% correct predictions\n",
      "97.83% correct predictions\n",
      "97.53% correct predictions\n",
      "97.85% correct predictions\n",
      "97.8% correct predictions\n",
      "97.76% correct predictions\n",
      "97.71% correct predictions\n",
      "97.7% correct predictions\n",
      "97.87% correct predictions\n",
      "97.91% correct predictions\n"
     ]
    }
   ],
   "source": [
    "for i in range(LEARNING_ITERATIONS):\n",
    "    xs, ys = get_batch(train_data, train_labels)\n",
    "    optimizer.zero_grad()\n",
    "    logits = model(xs)\n",
    "    loss = loss_function(logits, ys)\n",
    "    if i % 100 == 0:\n",
    "        evaluate()\n",
    "    loss.backward()\n",
    "    optimizer.step()"
   ]
  }
 ],
 "metadata": {
  "kernelspec": {
   "display_name": "Python 3 (ipykernel)",
   "language": "python",
   "name": "python3"
  },
  "language_info": {
   "codemirror_mode": {
    "name": "ipython",
    "version": 3
   },
   "file_extension": ".py",
   "mimetype": "text/x-python",
   "name": "python",
   "nbconvert_exporter": "python",
   "pygments_lexer": "ipython3",
   "version": "3.13.5"
  }
 },
 "nbformat": 4,
 "nbformat_minor": 5
}
